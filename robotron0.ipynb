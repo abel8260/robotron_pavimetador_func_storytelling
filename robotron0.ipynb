{
 "cells": [
  {
   "cell_type": "code",
   "execution_count": null,
   "id": "77d89245",
   "metadata": {},
   "outputs": [],
   "source": [
    "import pyautogui\n",
    "pyautogui.PAUSE = 2\n",
    "\n",
    "cont=56\n",
    "\n",
    "while (cont < 65):\n",
    "    cont= cont + 1;\n",
    "    pyautogui.leftClick(23, 130)\n",
    "    pyautogui.leftClick(50, 50)\n",
    "    pyautogui.leftClick(150, 630)\n",
    "    pyautogui.leftClick(500, 200)\n",
    "    pyautogui.leftClick(390, 150)\n",
    "    pyautogui.leftClick(1000, 550)\n",
    "    pyautogui.leftClick(250, 350)\n",
    "    pyautogui.leftClick(900,365)\n",
    "    pyautogui.write(\"normal\")\n",
    "    pyautogui.leftClick(800, 465)\n",
    "    pyautogui.write(\"rua_tancredo_neves\")\n",
    "    pyautogui.leftClick(800, 280)\n",
    "    pyautogui.write(\"quarto \" + str(cont))\n",
    "    pyautogui.press('enter')\n",
    "    pyautogui.leftClick(23, 130)\n",
    "    pyautogui.leftClick(50, 50)\n",
    "    pyautogui.leftClick(150, 630)\n",
    "    pyautogui.leftClick(500, 200)\n",
    "    pyautogui.leftClick(390, 150)\n",
    "    pyautogui.leftClick(1000, 550)\n",
    "    pyautogui.leftClick(700, 360)\n",
    "    pyautogui.leftClick(900,365)\n",
    "    pyautogui.write(\"normal\")\n",
    "    pyautogui.leftClick(800, 465)\n",
    "    pyautogui.write(\"rua_tancredo_neves\")\n",
    "    pyautogui.leftClick(800, 280)\n",
    "    pyautogui.write(\"ver red \" + str(cont))\n",
    "    pyautogui.press('enter')\n",
    "    pyautogui.leftClick(23, 130)\n",
    "    pyautogui.leftClick(50, 50)\n",
    "    pyautogui.leftClick(150, 630)\n",
    "    pyautogui.leftClick(500, 200)\n",
    "    pyautogui.leftClick(390, 150)\n",
    "    pyautogui.leftClick(1000, 550)\n",
    "    pyautogui.leftClick(700, 360)\n",
    "    pyautogui.leftClick(900,365)\n",
    "    pyautogui.write(\"normal\")\n",
    "    pyautogui.leftClick(800, 465)\n",
    "    pyautogui.write(\"rua_tancredo_neves\")\n",
    "    pyautogui.leftClick(800, 280)\n",
    "    pyautogui.write(\"Norte \" + str(cont))\n",
    "    pyautogui.press('enter')\n",
    "    pyautogui.leftClick(23, 130)    \n",
    "    pyautogui.leftClick(50, 50)\n",
    "    pyautogui.leftClick(150, 630)\n",
    "    pyautogui.leftClick(500, 200)\n",
    "    pyautogui.leftClick(390, 150)\n",
    "    pyautogui.leftClick(1000, 550)\n",
    "    pyautogui.leftClick(700, 360)\n",
    "    pyautogui.leftClick(900,365)\n",
    "    pyautogui.write(\"normal\")\n",
    "    pyautogui.leftClick(800, 465)\n",
    "    pyautogui.write(\"rua_tancredo_neves\")   \n",
    "    pyautogui.leftClick(800, 280)\n",
    "    pyautogui.write(\"Leste \"+ str(cont))\n",
    "    pyautogui.press('enter')\n",
    "    pyautogui.leftClick(23, 130)    \n",
    "    pyautogui.leftClick(50, 50)\n",
    "    pyautogui.leftClick(150, 630)\n",
    "    pyautogui.leftClick(500, 200)\n",
    "    pyautogui.leftClick(390, 150)\n",
    "    pyautogui.leftClick(1000, 550)\n",
    "    pyautogui.leftClick(700, 360)\n",
    "    pyautogui.leftClick(900,365)\n",
    "    pyautogui.write(\"normal\")\n",
    "    pyautogui.leftClick(800, 465)\n",
    "    pyautogui.write(\"rua_tancredo_neves\")\n",
    "    pyautogui.leftClick(800, 280)\n",
    "    pyautogui.write(\"Sul \" + str(cont))\n",
    "    pyautogui.press('enter')\n",
    "    pyautogui.leftClick(23, 130)    \n",
    "    pyautogui.leftClick(50, 50)\n",
    "    pyautogui.leftClick(150, 630)\n",
    "    pyautogui.leftClick(500, 200)\n",
    "    pyautogui.leftClick(390, 150)\n",
    "    pyautogui.leftClick(1000, 550)\n",
    "    pyautogui.leftClick(700, 360)\n",
    "    pyautogui.leftClick(900,365)\n",
    "    pyautogui.write(\"normal\")\n",
    "    pyautogui.leftClick(800, 465)\n",
    "    pyautogui.write(\"rua_tancredo_neves\")\n",
    "    pyautogui.leftClick(800, 280)\n",
    "    pyautogui.write(\"Oeste \" + str(cont))\n",
    "    pyautogui.press('enter')\n",
    "    \n",
    "    \n",
    "    "
   ]
  },
  {
   "cell_type": "raw",
   "id": "19ccb5f9",
   "metadata": {},
   "source": []
  },
  {
   "cell_type": "code",
   "execution_count": null,
   "id": "c385c1b2",
   "metadata": {},
   "outputs": [],
   "source": []
  },
  {
   "cell_type": "code",
   "execution_count": null,
   "id": "532c324a",
   "metadata": {},
   "outputs": [],
   "source": []
  },
  {
   "cell_type": "raw",
   "id": "98f538f5",
   "metadata": {},
   "source": [
    "# "
   ]
  },
  {
   "cell_type": "code",
   "execution_count": 21,
   "id": "481e032f",
   "metadata": {},
   "outputs": [],
   "source": [
    "import pyautogui\n",
    "pyautogui.leftClick(150,600)\n",
    "pyautogui.leftClick(700,230)\n",
    "pyautogui.leftClick(350,150)\n",
    "pyautogui.leftClick(90,490)"
   ]
  },
  {
   "cell_type": "code",
   "execution_count": null,
   "id": "18836e87",
   "metadata": {},
   "outputs": [],
   "source": []
  },
  {
   "cell_type": "code",
   "execution_count": null,
   "id": "ee9fb849",
   "metadata": {},
   "outputs": [],
   "source": []
  },
  {
   "cell_type": "markdown",
   "id": "188bff8d",
   "metadata": {},
   "source": []
  },
  {
   "cell_type": "markdown",
   "id": "58c8243c",
   "metadata": {},
   "source": []
  },
  {
   "cell_type": "code",
   "execution_count": 1,
   "id": "0bb7b4d5",
   "metadata": {
    "scrolled": true
   },
   "outputs": [
    {
     "ename": "KeyboardInterrupt",
     "evalue": "",
     "output_type": "error",
     "traceback": [
      "\u001b[1;31m---------------------------------------------------------------------------\u001b[0m",
      "\u001b[1;31mKeyboardInterrupt\u001b[0m                         Traceback (most recent call last)",
      "Input \u001b[1;32mIn [1]\u001b[0m, in \u001b[0;36m<cell line: 5>\u001b[1;34m()\u001b[0m\n\u001b[0;32m     37\u001b[0m pyautogui\u001b[38;5;241m.\u001b[39mleftClick(\u001b[38;5;241m25\u001b[39m, \u001b[38;5;241m100\u001b[39m) \n\u001b[0;32m     38\u001b[0m pyautogui\u001b[38;5;241m.\u001b[39mtripleClick(\u001b[38;5;241m870\u001b[39m, \u001b[38;5;241m350\u001b[39m)\n\u001b[1;32m---> 39\u001b[0m \u001b[43mpyautogui\u001b[49m\u001b[38;5;241;43m.\u001b[39;49m\u001b[43mwrite\u001b[49m\u001b[43m(\u001b[49m\u001b[38;5;124;43m\"\u001b[39;49m\u001b[38;5;124;43mnormal\u001b[39;49m\u001b[38;5;124;43m\"\u001b[39;49m\u001b[43m)\u001b[49m\n\u001b[0;32m     40\u001b[0m pyautogui\u001b[38;5;241m.\u001b[39mtripleClick(\u001b[38;5;241m870\u001b[39m, \u001b[38;5;241m415\u001b[39m)\n\u001b[0;32m     41\u001b[0m pyautogui\u001b[38;5;241m.\u001b[39mwrite(\u001b[38;5;124m\"\u001b[39m\u001b[38;5;124mquarto \u001b[39m\u001b[38;5;124m\"\u001b[39m \u001b[38;5;241m+\u001b[39m \u001b[38;5;28mstr\u001b[39m(cont))\n",
      "File \u001b[1;32m~\\anaconda3\\lib\\site-packages\\pyautogui\\__init__.py:599\u001b[0m, in \u001b[0;36m_genericPyAutoGUIChecks.<locals>.wrapper\u001b[1;34m(*args, **kwargs)\u001b[0m\n\u001b[0;32m    597\u001b[0m failSafeCheck()\n\u001b[0;32m    598\u001b[0m returnVal \u001b[38;5;241m=\u001b[39m wrappedFunction(\u001b[38;5;241m*\u001b[39margs, \u001b[38;5;241m*\u001b[39m\u001b[38;5;241m*\u001b[39mkwargs)\n\u001b[1;32m--> 599\u001b[0m \u001b[43m_handlePause\u001b[49m\u001b[43m(\u001b[49m\u001b[43mkwargs\u001b[49m\u001b[38;5;241;43m.\u001b[39;49m\u001b[43mget\u001b[49m\u001b[43m(\u001b[49m\u001b[38;5;124;43m\"\u001b[39;49m\u001b[38;5;124;43m_pause\u001b[39;49m\u001b[38;5;124;43m\"\u001b[39;49m\u001b[43m,\u001b[49m\u001b[43m \u001b[49m\u001b[38;5;28;43;01mTrue\u001b[39;49;00m\u001b[43m)\u001b[49m\u001b[43m)\u001b[49m\n\u001b[0;32m    600\u001b[0m \u001b[38;5;28;01mreturn\u001b[39;00m returnVal\n",
      "File \u001b[1;32m~\\anaconda3\\lib\\site-packages\\pyautogui\\__init__.py:643\u001b[0m, in \u001b[0;36m_handlePause\u001b[1;34m(_pause)\u001b[0m\n\u001b[0;32m    641\u001b[0m \u001b[38;5;28;01mif\u001b[39;00m _pause:\n\u001b[0;32m    642\u001b[0m     \u001b[38;5;28;01massert\u001b[39;00m \u001b[38;5;28misinstance\u001b[39m(PAUSE, \u001b[38;5;28mint\u001b[39m) \u001b[38;5;129;01mor\u001b[39;00m \u001b[38;5;28misinstance\u001b[39m(PAUSE, \u001b[38;5;28mfloat\u001b[39m)\n\u001b[1;32m--> 643\u001b[0m     \u001b[43mtime\u001b[49m\u001b[38;5;241;43m.\u001b[39;49m\u001b[43msleep\u001b[49m\u001b[43m(\u001b[49m\u001b[43mPAUSE\u001b[49m\u001b[43m)\u001b[49m\n",
      "\u001b[1;31mKeyboardInterrupt\u001b[0m: "
     ]
    }
   ],
   "source": []
  },
  {
   "cell_type": "code",
   "execution_count": 2,
   "id": "bbb6e687",
   "metadata": {},
   "outputs": [
    {
     "ename": "KeyboardInterrupt",
     "evalue": "",
     "output_type": "error",
     "traceback": [
      "\u001b[1;31m---------------------------------------------------------------------------\u001b[0m",
      "\u001b[1;31mKeyboardInterrupt\u001b[0m                         Traceback (most recent call last)",
      "Input \u001b[1;32mIn [2]\u001b[0m, in \u001b[0;36m<cell line: 5>\u001b[1;34m()\u001b[0m\n\u001b[0;32m      6\u001b[0m cont \u001b[38;5;241m+\u001b[39m\u001b[38;5;241m=\u001b[39m \u001b[38;5;241m1\u001b[39m\n\u001b[0;32m      7\u001b[0m pyautogui\u001b[38;5;241m.\u001b[39mleftClick(\u001b[38;5;241m50\u001b[39m, \u001b[38;5;241m50\u001b[39m)\n\u001b[1;32m----> 8\u001b[0m \u001b[43mpyautogui\u001b[49m\u001b[38;5;241;43m.\u001b[39;49m\u001b[43mleftClick\u001b[49m\u001b[43m(\u001b[49m\u001b[38;5;241;43m25\u001b[39;49m\u001b[43m,\u001b[49m\u001b[43m \u001b[49m\u001b[38;5;241;43m100\u001b[39;49m\u001b[43m)\u001b[49m \n\u001b[0;32m      9\u001b[0m pyautogui\u001b[38;5;241m.\u001b[39mtripleClick(\u001b[38;5;241m900\u001b[39m, \u001b[38;5;241m260\u001b[39m)\n\u001b[0;32m     10\u001b[0m pyautogui\u001b[38;5;241m.\u001b[39mwrite(\u001b[38;5;124m\"\u001b[39m\u001b[38;5;124mNorte \u001b[39m\u001b[38;5;124m\"\u001b[39m \u001b[38;5;241m+\u001b[39m \u001b[38;5;28mstr\u001b[39m(cont))\n",
      "File \u001b[1;32m~\\anaconda3\\lib\\site-packages\\pyautogui\\__init__.py:599\u001b[0m, in \u001b[0;36m_genericPyAutoGUIChecks.<locals>.wrapper\u001b[1;34m(*args, **kwargs)\u001b[0m\n\u001b[0;32m    597\u001b[0m failSafeCheck()\n\u001b[0;32m    598\u001b[0m returnVal \u001b[38;5;241m=\u001b[39m wrappedFunction(\u001b[38;5;241m*\u001b[39margs, \u001b[38;5;241m*\u001b[39m\u001b[38;5;241m*\u001b[39mkwargs)\n\u001b[1;32m--> 599\u001b[0m \u001b[43m_handlePause\u001b[49m\u001b[43m(\u001b[49m\u001b[43mkwargs\u001b[49m\u001b[38;5;241;43m.\u001b[39;49m\u001b[43mget\u001b[49m\u001b[43m(\u001b[49m\u001b[38;5;124;43m\"\u001b[39;49m\u001b[38;5;124;43m_pause\u001b[39;49m\u001b[38;5;124;43m\"\u001b[39;49m\u001b[43m,\u001b[49m\u001b[43m \u001b[49m\u001b[38;5;28;43;01mTrue\u001b[39;49;00m\u001b[43m)\u001b[49m\u001b[43m)\u001b[49m\n\u001b[0;32m    600\u001b[0m \u001b[38;5;28;01mreturn\u001b[39;00m returnVal\n",
      "File \u001b[1;32m~\\anaconda3\\lib\\site-packages\\pyautogui\\__init__.py:643\u001b[0m, in \u001b[0;36m_handlePause\u001b[1;34m(_pause)\u001b[0m\n\u001b[0;32m    641\u001b[0m \u001b[38;5;28;01mif\u001b[39;00m _pause:\n\u001b[0;32m    642\u001b[0m     \u001b[38;5;28;01massert\u001b[39;00m \u001b[38;5;28misinstance\u001b[39m(PAUSE, \u001b[38;5;28mint\u001b[39m) \u001b[38;5;129;01mor\u001b[39;00m \u001b[38;5;28misinstance\u001b[39m(PAUSE, \u001b[38;5;28mfloat\u001b[39m)\n\u001b[1;32m--> 643\u001b[0m     \u001b[43mtime\u001b[49m\u001b[38;5;241;43m.\u001b[39;49m\u001b[43msleep\u001b[49m\u001b[43m(\u001b[49m\u001b[43mPAUSE\u001b[49m\u001b[43m)\u001b[49m\n",
      "\u001b[1;31mKeyboardInterrupt\u001b[0m: "
     ]
    }
   ],
   "source": [
    "import pyautogui\n",
    "pyautogui.PAUSE = 1.8\n",
    "\n",
    "cont= 44\n",
    "while cont < 65 :\n",
    "    cont += 1\n",
    "    pyautogui.leftClick(50, 50)\n",
    "    pyautogui.leftClick(25, 100) \n",
    "    pyautogui.tripleClick(900, 260)\n",
    "    pyautogui.write(\"Norte \" + str(cont))\n",
    "    pyautogui.tripleClick(870, 350)\n",
    "    pyautogui.write(\"normal\")\n",
    "    pyautogui.tripleClick(870, 415)\n",
    "    pyautogui.write(\"quarto \" + str(cont))\n",
    "    pyautogui.tripleClick(870, 490)\n",
    "    pyautogui.write(\"rua_tancredo_neves\")\n",
    "    pyautogui.press(\"enter\")\n",
    "    pyautogui.leftClick(25, 100) \n",
    "    pyautogui.leftClick(50, 50) \n",
    "    pyautogui.tripleClick(900, 260)\n",
    "    pyautogui.write(\"Leste \" + str(cont))\n",
    "    pyautogui.tripleClick(870, 350)\n",
    "    pyautogui.write(\"normal\")\n",
    "    pyautogui.tripleClick(870, 415)\n",
    "    pyautogui.write(\"quarto \" + str(cont))\n",
    "    pyautogui.tripleClick(870, 490)\n",
    "    pyautogui.write(\"rua_tancredo_neves\")\n",
    "    pyautogui.press(\"enter\")\n",
    "    pyautogui.leftClick(25, 100) \n",
    "    pyautogui.leftClick(50, 50) \n",
    "    pyautogui.tripleClick(900, 260)\n",
    "    pyautogui.write(\"Sul \" + str(cont))\n",
    "    pyautogui.tripleClick(870, 350)\n",
    "    pyautogui.write(\"normal\")\n",
    "    pyautogui.tripleClick(870, 415)\n",
    "    pyautogui.write(\"quarto \" + str(cont))\n",
    "    pyautogui.tripleClick(870, 490)\n",
    "    pyautogui.write(\"rua_tancredo_neves\")\n",
    "    pyautogui.press(\"enter\")\n",
    "    pyautogui.leftClick(25, 100)\n",
    "    pyautogui.leftClick(50, 50)     \n",
    "    pyautogui.tripleClick(900, 260)\n",
    "    pyautogui.write(\"Oeste \" + str(cont))\n",
    "    pyautogui.tripleClick(870, 350)\n",
    "    pyautogui.write(\"normal\")\n",
    "    pyautogui.tripleClick(870, 415)\n",
    "    pyautogui.write(\"quarto \" + str(cont))\n",
    "    pyautogui.tripleClick(870, 490)\n",
    "    pyautogui.write(\"rua_tancredo_neves\")\n",
    "    pyautogui.press(\"enter\")\n",
    "  "
   ]
  },
  {
   "cell_type": "code",
   "execution_count": null,
   "id": "191e3362",
   "metadata": {},
   "outputs": [],
   "source": []
  },
  {
   "cell_type": "markdown",
   "id": "a0d307e0",
   "metadata": {},
   "source": []
  },
  {
   "cell_type": "code",
   "execution_count": null,
   "id": "7b7d839f",
   "metadata": {},
   "outputs": [],
   "source": []
  }
 ],
 "metadata": {
  "kernelspec": {
   "display_name": "Python 3 (ipykernel)",
   "language": "python",
   "name": "python3"
  },
  "language_info": {
   "codemirror_mode": {
    "name": "ipython",
    "version": 3
   },
   "file_extension": ".py",
   "mimetype": "text/x-python",
   "name": "python",
   "nbconvert_exporter": "python",
   "pygments_lexer": "ipython3",
   "version": "3.9.12"
  }
 },
 "nbformat": 4,
 "nbformat_minor": 5
}
